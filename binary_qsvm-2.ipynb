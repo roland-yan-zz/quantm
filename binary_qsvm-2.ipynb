{
  "nbformat": 4,
  "nbformat_minor": 0,
  "metadata": {
    "kernelspec": {
      "display_name": "Qiskitenv",
      "language": "python",
      "name": "qiskitenv"
    },
    "language_info": {
      "codemirror_mode": {
        "name": "ipython",
        "version": 3
      },
      "file_extension": ".py",
      "mimetype": "text/x-python",
      "name": "python",
      "nbconvert_exporter": "python",
      "pygments_lexer": "ipython3",
      "version": "3.6.8"
    },
    "colab": {
      "name": "binary qsvm",
      "provenance": []
    }
  },
  "cells": [
    {
      "cell_type": "markdown",
      "metadata": {
        "id": "uOLkyYzPNb3i"
      },
      "source": [
        "## Quantum SVM \n",
        "\n"
      ]
    },
    {
      "cell_type": "code",
      "metadata": {
        "id": "0wnTqZnvNb3i"
      },
      "source": [
        "!pip install qiskit\n",
        "import matplotlib.pyplot as plt\n",
        "import numpy as np\n",
        "from qiskit import Aer\n",
        "from qiskit.ml.datasets import ad_hoc_data, sample_ad_hoc_data, breast_cancer\n",
        "from qiskit.circuit.library import ZZFeatureMap\n",
        "from qiskit.aqua.utils import split_dataset_to_data_and_labels, map_label_to_class_name\n",
        "from qiskit.aqua import QuantumInstance\n",
        "from qiskit.aqua.algorithms import QSVM"
      ],
      "execution_count": null,
      "outputs": []
    },
    {
      "cell_type": "code",
      "metadata": {
        "id": "rERGqg7kNb3i"
      },
      "source": [
        "feature_dim = 20   # Number of input features\n",
        "sample_total_bc, train_data_bc, test_data_bc, labels_bc = breast_cancer(training_size=450, test_size=100,n=feature_dim)"
      ],
      "execution_count": null,
      "outputs": []
    },
    {
      "cell_type": "code",
      "metadata": {
        "id": "2FF5BWjSNb3k"
      },
      "source": [
        "feature_map_bc = ZZFeatureMap(feature_dimension=feature_dim, reps=2, entanglement='linear')\n",
        "qsvm_bc = QSVM(feature_map_bc, train_data_bc, test_data_bc)"
      ],
      "execution_count": null,
      "outputs": []
    },
    {
      "cell_type": "code",
      "metadata": {
        "id": "8rTsB3k5P3Kz"
      },
      "source": [
        "backend = Aer.get_backend('qasm_simulator')\n",
        "quantum_instance_bc = QuantumInstance(backend, shots=1024)"
      ],
      "execution_count": null,
      "outputs": []
    },
    {
      "cell_type": "code",
      "metadata": {
        "id": "WivQoRNCP3xk"
      },
      "source": [
        "result_bc = qsvm_bc.run(quantum_instance_bc)\n",
        "print(f\"Testing Accuracy: {result_bc['testing_accuracy'] * 100}%\")"
      ],
      "execution_count": null,
      "outputs": []
    },
    {
      "cell_type": "code",
      "metadata": {
        "id": "nfhIqI5XQGGF"
      },
      "source": [
        "print(\"Trained Kernel Matrix:\")\n",
        "kernel_matrix_bc = result_bc['kernel_matrix_training']\n",
        "img = plt.imshow(np.asmatrix(kernel_matrix_bc),interpolation='nearest',origin='upper',cmap='bone_r')\n",
        "plt.show()"
      ],
      "execution_count": null,
      "outputs": []
    },
    {
      "cell_type": "code",
      "metadata": {
        "id": "ak8jtaCjQr7g"
      },
      "source": [
        ""
      ],
      "execution_count": null,
      "outputs": []
    }
  ]
}