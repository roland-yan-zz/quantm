{
  "nbformat": 4,
  "nbformat_minor": 0,
  "metadata": {
    "colab": {
      "name": "Quantum Support Vector Machines MultiClass",
      "provenance": []
    },
    "kernelspec": {
      "name": "python3",
      "display_name": "Python 3"
    }
  },
  "cells": [
    {
      "cell_type": "code",
      "metadata": {
        "id": "YeiMK0WOG1Ox"
      },
      "source": [
        "import numpy as np\n",
        "import matplotlib.pyplot as plt\n",
        "import pandas as pd"
      ],
      "execution_count": null,
      "outputs": []
    },
    {
      "cell_type": "code",
      "metadata": {
        "id": "5I4aqsryHEj1"
      },
      "source": [
        "!pip install qiskit\n",
        "\n",
        "from qiskit import BasicAer\n",
        "from qiskit.circuit.library import ZZFeatureMap\n",
        "from qiskit.aqua import QuantumInstance, aqua_globals\n",
        "from qiskit.aqua.algorithms import QSVM\n",
        "from qiskit.aqua.components.multiclass_extensions import AllPairs\n",
        "from qiskit.aqua.utils.dataset_helper import get_feature_dimension"
      ],
      "execution_count": null,
      "outputs": []
    },
    {
      "cell_type": "code",
      "metadata": {
        "id": "EqHLLVm4KopV"
      },
      "source": [
        "from google.colab import drive\n",
        "drive.mount('/content/drive')"
      ],
      "execution_count": null,
      "outputs": []
    },
    {
      "cell_type": "code",
      "metadata": {
        "id": "pnAwnnQKKu3S"
      },
      "source": [
        "%cd /content/drive/My Drive/Heart Dataset"
      ],
      "execution_count": null,
      "outputs": []
    },
    {
      "cell_type": "code",
      "metadata": {
        "id": "exo1HWOZK6Ls"
      },
      "source": [
        "df = pd.read_csv(\"./heart.csv\")\n",
        "df.columns = ['age', 'sex', 'cp', 'trestbps', 'chol',\n",
        "              'fbs', 'restecg', 'thalach', 'exang', \n",
        "              'oldpeak', 'slope', 'ca', 'thal', 'target']\n",
        "df.isnull().sum()\n",
        "\n",
        "df['target'] = df.target.map({0: 0, 1: 1, 2: 1, 3: 1, 4: 1})\n",
        "df['sex'] = df.sex.map({'female': 0, 'male': 1})\n",
        "df['thal'] = df.thal.fillna(df.thal.mean())\n",
        "df['ca'] = df.ca.fillna(df.ca.mean())"
      ],
      "execution_count": null,
      "outputs": []
    },
    {
      "cell_type": "code",
      "metadata": {
        "id": "6gqqdX4SHFbb"
      },
      "source": [
        "from sklearn.model_selection import train_test_split\n",
        "\n",
        "X = df.iloc[:, :-1].values\n",
        "y = df.iloc[:, -1].values\n",
        "\n",
        "X_train, X_test, y_train, y_test = train_test_split(X, y, test_size = 0.2, random_state = 0)"
      ],
      "execution_count": null,
      "outputs": []
    },
    {
      "cell_type": "code",
      "metadata": {
        "id": "CiB5RCl9DTpC"
      },
      "source": [
        "from sklearn.preprocessing import StandardScaler as ss\n",
        "sc = ss()\n",
        "X_train = sc.fit_transform(X_train)\n",
        "X_test = sc.transform(X_test)\n",
        "\n",
        "training_input = {'X': X_train,'Y': y_train}\n",
        "testing_input = {'X': X_test,'Y': y_test}\n",
        "\n",
        "temp = [testing_input[k] for k in testing_input]\n",
        "total_array = np.concatenate(temp)"
      ],
      "execution_count": null,
      "outputs": []
    },
    {
      "cell_type": "code",
      "metadata": {
        "id": "WX1JWmKoID3F"
      },
      "source": [
        "aqua_globals.random_seed = 10598\n",
        "\n",
        "backend = BasicAer.get_backend('qasm_simulator')\n",
        "feature_map = ZZFeatureMap(feature_dimension=get_feature_dimension(training_input),\n",
        "                           reps=2, entanglement='linear')\n",
        "svm = QSVM(feature_map, training_input, testing_input, total_array,\n",
        "           multiclass_extension=AllPairs())\n",
        "quantum_instance = QuantumInstance(backend, shots=1024,\n",
        "                                   seed_simulator=aqua_globals.random_seed,\n",
        "                                   seed_transpiler=aqua_globals.random_seed)\n",
        "\n",
        "result = svm.run(quantum_instance)\n",
        "for k,v in result.items():\n",
        "    print(f'{k} : {v}')"
      ],
      "execution_count": null,
      "outputs": []
    }
  ]
}